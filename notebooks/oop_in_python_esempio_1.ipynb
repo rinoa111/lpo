{
 "cells": [
  {
   "cell_type": "markdown",
   "source": [
    "# Creazione di una classe\n",
    "\n",
    "Questo notebook contine un esempio di creazione di una classe e\n",
    "inizializzazione di un oggetto appartenente a quella classe, quella discussa\n",
    " nelle slide: Gli oggetti in Python (parte 1).\n"
   ],
   "metadata": {
    "collapsed": false,
    "pycharm": {
     "name": "#%% md\n"
    }
   }
  },
  {
   "cell_type": "markdown",
   "source": [
    "## Definizione della classe CLibro\n",
    "\n",
    "Il codice sottostante definisce la classe CLibro.\n",
    "Per come è stata definita la classe CLibro i valori degli attributi devono\n",
    "necessariamente essere passati al costruttore quando l'utente crea un nuovo\n",
    "oggetto."
   ],
   "metadata": {
    "collapsed": false
   }
  },
  {
   "cell_type": "code",
   "execution_count": null,
   "metadata": {
    "collapsed": true
   },
   "outputs": [],
   "source": [
    "\n",
    "class CLibro:\n",
    "\n",
    "    def __init__(self, titolo, autore, editore, prezzo, anno_pubblicazione):\n",
    "\n",
    "            self.titolo = titolo\n",
    "            self.autore = autore\n",
    "            self.editore = editore\n",
    "            self.prezzo = prezzo\n",
    "            self.anno_pubblicazione = anno_pubblicazione\n",
    "\n",
    "    def _calcola_eta_libro(self, anno_corrente):\n",
    "        eta_libro = anno_corrente - self.anno_pubblicazione\n",
    "        return eta_libro\n",
    "\n",
    "    def _calcola_sconto(self, anno_corrente):\n",
    "        eta_libro = self._calcola_eta_libro(anno_corrente)\n",
    "        if eta_libro > 5:\n",
    "            sconto = self.prezzo * 5 / 100\n",
    "        else:\n",
    "            sconto = 0\n",
    "        return sconto\n",
    "\n",
    "    def calcola_prezzo_scontato(self, anno_corrente):\n",
    "        prezzo_scontato = self.prezzo - self._calcola_sconto(anno_corrente)\n",
    "        return prezzo_scontato\n"
   ]
  },
  {
   "cell_type": "markdown",
   "source": [
    "## Creazione di un'istanza della classe (oggetto)\n",
    "\n",
    "Il codice sottostante acquisisce in input i valori degli attributi per un\n",
    "specifico oggetto e  crea un oggetto appartenente\n",
    "alla classe CLibro.\n"
   ],
   "metadata": {
    "collapsed": false
   }
  },
  {
   "cell_type": "code",
   "execution_count": null,
   "outputs": [],
   "source": [
    "titolo = input(\"inserisci il titolo del libro \")\n",
    "autore = input(\"inserisci l'autore del libro \")\n",
    "editore = input(\"inserisci l'editore del libro \")\n",
    "prezzo = float(input(\"inserisci il prezzo del libro \"))\n",
    "anno_pubblicazione = int(input(\"inserisci l'anno di pubblicazione del libro \"))\n",
    "oggetto_libro = CLibro(titolo, autore, editore, prezzo, anno_pubblicazione)"
   ],
   "metadata": {
    "collapsed": false,
    "pycharm": {
     "name": "#%%\n"
    }
   }
  },
  {
   "cell_type": "markdown",
   "source": [
    "## Utilizzo di un metodo\n",
    "\n",
    "Una volta creato l'oggetto possiamo utilizzare il\n",
    "metodo di istanza chiamato calcola_prezzo_scontato.\n"
   ],
   "metadata": {
    "collapsed": false
   }
  },
  {
   "cell_type": "code",
   "execution_count": null,
   "outputs": [],
   "source": [
    "\n",
    "oggetto_libro = print(oggetto_libro.calcola_prezzo_scontato(2020))"
   ],
   "metadata": {
    "collapsed": false,
    "pycharm": {
     "name": "#%%\n"
    }
   }
  }
 ],
 "metadata": {
  "kernelspec": {
   "display_name": "Python 3",
   "language": "python",
   "name": "python3"
  },
  "language_info": {
   "codemirror_mode": {
    "name": "ipython",
    "version": 2
   },
   "file_extension": ".py",
   "mimetype": "text/x-python",
   "name": "python",
   "nbconvert_exporter": "python",
   "pygments_lexer": "ipython2",
   "version": "2.7.6"
  }
 },
 "nbformat": 4,
 "nbformat_minor": 0
}